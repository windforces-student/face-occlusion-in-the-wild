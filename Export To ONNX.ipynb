{
 "cells": [
  {
   "cell_type": "code",
   "execution_count": 1,
   "id": "3c14bd85-d0a5-423e-8000-8dce3a41b0ca",
   "metadata": {},
   "outputs": [],
   "source": [
    "import onnx\n",
    "\n",
    "import torch\n",
    "import torch.onnx"
   ]
  },
  {
   "cell_type": "code",
   "execution_count": 4,
   "id": "0607e9fa-c239-4e1d-b706-6f25bbccac03",
   "metadata": {},
   "outputs": [],
   "source": [
    "import io\n",
    "import contextlib\n",
    "\n",
    "from config import get_config\n",
    "from Learner import face_learner\n",
    "from data.data_pipe import get_val_data, get_val_dataset"
   ]
  },
  {
   "cell_type": "code",
   "execution_count": 5,
   "id": "84a8dfb6-91d5-4a73-80b0-1db3818c2cb4",
   "metadata": {
    "tags": []
   },
   "outputs": [],
   "source": [
    "with contextlib.redirect_stdout(io.StringIO()):\n",
    "    conf = get_config(training=True)\n",
    "    conf.device = 'cpu'\n",
    "    conf.use_mobilfacenet = True\n",
    "\n",
    "    checkpoint = '/workspace/InsightFace_Pytorch/work_space/save/model_2022-08-05-22-09_accuracy:0.939209726443769_step:759_final.pth'\n",
    "    checkpoint = torch.load(checkpoint, map_location='cpu')\n",
    "\n",
    "    learner = face_learner(conf, inference=False)\n",
    "    learner.load_state_dict(checkpoint)"
   ]
  },
  {
   "cell_type": "code",
   "execution_count": 6,
   "id": "9238fe1a-f2a1-4957-8540-49c2d4a5864a",
   "metadata": {},
   "outputs": [],
   "source": [
    "# 모델에 대한 입력값\n",
    "learner.eval()\n",
    "batch_size = 1\n",
    "x = torch.randn(batch_size, 3, 112, 112, requires_grad=True)\n",
    "torch_out = learner(x)"
   ]
  },
  {
   "cell_type": "code",
   "execution_count": 7,
   "id": "15d983ea-400a-4bab-92a8-1acaaa5adfb3",
   "metadata": {},
   "outputs": [
    {
     "data": {
      "text/plain": [
       "torch.float32"
      ]
     },
     "execution_count": 7,
     "metadata": {},
     "output_type": "execute_result"
    }
   ],
   "source": [
    "torch_out.dtype"
   ]
  },
  {
   "cell_type": "code",
   "execution_count": 8,
   "id": "b8a1e148-1670-4baf-8e4c-926eedb93b23",
   "metadata": {},
   "outputs": [],
   "source": [
    "# 모델 변환\n",
    "with contextlib.redirect_stdout(io.StringIO()):\n",
    "    torch.onnx.export(learner, # 실행될 모델\n",
    "                      x, # 모델 입력값 (튜플 또는 여러 입력값들도 가능)\n",
    "                      \"model_2022-08-05-22-09_accuracy:0.939209726443769_step:759_final.onnx\",# 모델 저장 경로 (파일 또는 파일과 유사한 객체 모두 가능)\n",
    "                      verbose=True, \n",
    "                      input_names=['input'], \n",
    "                      output_names=['output'])"
   ]
  },
  {
   "cell_type": "code",
   "execution_count": 13,
   "id": "c83f51ab-0c7c-4792-8210-2a300da773bc",
   "metadata": {},
   "outputs": [
    {
     "name": "stderr",
     "output_type": "stream",
     "text": [
      "IOPub data rate exceeded.\n",
      "The Jupyter server will temporarily stop sending output\n",
      "to the client in order to avoid crashing it.\n",
      "To change this limit, set the config variable\n",
      "`--ServerApp.iopub_data_rate_limit`.\n",
      "\n",
      "Current values:\n",
      "ServerApp.iopub_data_rate_limit=1000000.0 (bytes/sec)\n",
      "ServerApp.rate_limit_window=3.0 (secs)\n",
      "\n"
     ]
    }
   ],
   "source": [
    "with contextlib.redirect_stdout(io.StringIO()):\n",
    "    # Preprocessing: load the model to be converted.\n",
    "    model_path = 'model_2022-08-05-22-09_accuracy:0.939209726443769_step:759_final.onnx'\n",
    "    original_model = onnx.load(model_path)\n",
    "print('The model before conversion:\\\\n{}'.format(original_model))\n",
    "\n",
    "with contextlib.redirect_stdout(io.StringIO()):\n",
    "    # Check the model\n",
    "    onnx.checker.check_model(original_model)\n",
    "print('The model is checked!')"
   ]
  },
  {
   "cell_type": "code",
   "execution_count": 14,
   "id": "e066977e-f201-4128-b8c3-32ab5ebfcfab",
   "metadata": {},
   "outputs": [
    {
     "name": "stderr",
     "output_type": "stream",
     "text": [
      "IOPub data rate exceeded.\n",
      "The Jupyter server will temporarily stop sending output\n",
      "to the client in order to avoid crashing it.\n",
      "To change this limit, set the config variable\n",
      "`--ServerApp.iopub_data_rate_limit`.\n",
      "\n",
      "Current values:\n",
      "ServerApp.iopub_data_rate_limit=1000000.0 (bytes/sec)\n",
      "ServerApp.rate_limit_window=3.0 (secs)\n",
      "\n"
     ]
    }
   ],
   "source": [
    "from onnx import version_converter, helper\n",
    "# Apply the version conversion on the original model\n",
    "converted_model = version_converter.convert_version(original_model, 7)\n",
    "print('The model after conversion:\\\\n{}'.format(converted_model))"
   ]
  },
  {
   "cell_type": "code",
   "execution_count": 15,
   "id": "aad7991e-08f8-4c8d-9018-12c09d6dcf11",
   "metadata": {},
   "outputs": [],
   "source": [
    "onnx.save(converted_model, 'model_2022-08-05-22-09_accuracy:0.939209726443769_step:759_final_v7.onnx')"
   ]
  },
  {
   "cell_type": "code",
   "execution_count": 16,
   "id": "c4b41cfb-9e8e-4206-8133-a97536b46e4f",
   "metadata": {},
   "outputs": [],
   "source": [
    "import os\n",
    "\n",
    "os.environ['CUDA_VISIBLE_DEVICES'] = '2'"
   ]
  },
  {
   "cell_type": "code",
   "execution_count": 17,
   "id": "09286845-774e-4fad-9cfd-a7564523349b",
   "metadata": {},
   "outputs": [],
   "source": [
    "import onnxruntime as ort"
   ]
  },
  {
   "cell_type": "code",
   "execution_count": 21,
   "id": "64d346d9-8cce-4a6f-9891-4b0d66951228",
   "metadata": {},
   "outputs": [
    {
     "name": "stderr",
     "output_type": "stream",
     "text": [
      "2022-08-10 20:34:22.958649198 [W:onnxruntime:Default, graph.cc:2204 CleanUnusedInitializers] model.conv1.bn.num_batches_tracked exists in this graph's initializers but it is not used by any node\n",
      "2022-08-10 20:34:22.958689416 [W:onnxruntime:Default, graph.cc:2204 CleanUnusedInitializers] model.conv_3.model.2.project.bn.num_batches_tracked exists in this graph's initializers but it is not used by any node\n",
      "2022-08-10 20:34:22.958698069 [W:onnxruntime:Default, graph.cc:2204 CleanUnusedInitializers] model.conv_4.model.1.conv_dw.bn.num_batches_tracked exists in this graph's initializers but it is not used by any node\n",
      "2022-08-10 20:34:22.958705281 [W:onnxruntime:Default, graph.cc:2204 CleanUnusedInitializers] model.conv_4.model.0.project.bn.num_batches_tracked exists in this graph's initializers but it is not used by any node\n",
      "2022-08-10 20:34:22.958712564 [W:onnxruntime:Default, graph.cc:2204 CleanUnusedInitializers] model.conv_34.conv_dw.bn.num_batches_tracked exists in this graph's initializers but it is not used by any node\n",
      "2022-08-10 20:34:22.958719496 [W:onnxruntime:Default, graph.cc:2204 CleanUnusedInitializers] model.conv_4.model.1.conv.bn.num_batches_tracked exists in this graph's initializers but it is not used by any node\n",
      "2022-08-10 20:34:22.958726567 [W:onnxruntime:Default, graph.cc:2204 CleanUnusedInitializers] model.conv_34.conv.bn.num_batches_tracked exists in this graph's initializers but it is not used by any node\n",
      "2022-08-10 20:34:22.958733765 [W:onnxruntime:Default, graph.cc:2204 CleanUnusedInitializers] model.conv_3.model.3.project.bn.num_batches_tracked exists in this graph's initializers but it is not used by any node\n",
      "2022-08-10 20:34:22.958740487 [W:onnxruntime:Default, graph.cc:2204 CleanUnusedInitializers] model.conv_3.model.3.conv_dw.bn.num_batches_tracked exists in this graph's initializers but it is not used by any node\n",
      "2022-08-10 20:34:22.958748356 [W:onnxruntime:Default, graph.cc:2204 CleanUnusedInitializers] model.conv_3.model.2.conv_dw.bn.num_batches_tracked exists in this graph's initializers but it is not used by any node\n",
      "2022-08-10 20:34:22.958756173 [W:onnxruntime:Default, graph.cc:2204 CleanUnusedInitializers] model.conv_3.model.2.conv.bn.num_batches_tracked exists in this graph's initializers but it is not used by any node\n",
      "2022-08-10 20:34:22.958762991 [W:onnxruntime:Default, graph.cc:2204 CleanUnusedInitializers] model.conv_4.model.3.project.bn.num_batches_tracked exists in this graph's initializers but it is not used by any node\n",
      "2022-08-10 20:34:22.958770072 [W:onnxruntime:Default, graph.cc:2204 CleanUnusedInitializers] model.conv_3.model.1.project.bn.num_batches_tracked exists in this graph's initializers but it is not used by any node\n",
      "2022-08-10 20:34:22.958776954 [W:onnxruntime:Default, graph.cc:2204 CleanUnusedInitializers] model.conv_3.model.0.project.bn.num_batches_tracked exists in this graph's initializers but it is not used by any node\n",
      "2022-08-10 20:34:22.958783609 [W:onnxruntime:Default, graph.cc:2204 CleanUnusedInitializers] model.conv_3.model.3.conv.bn.num_batches_tracked exists in this graph's initializers but it is not used by any node\n",
      "2022-08-10 20:34:22.958792730 [W:onnxruntime:Default, graph.cc:2204 CleanUnusedInitializers] model.conv_5.model.0.project.bn.num_batches_tracked exists in this graph's initializers but it is not used by any node\n",
      "2022-08-10 20:34:22.958800197 [W:onnxruntime:Default, graph.cc:2204 CleanUnusedInitializers] model.conv_23.conv.bn.num_batches_tracked exists in this graph's initializers but it is not used by any node\n",
      "2022-08-10 20:34:22.958807186 [W:onnxruntime:Default, graph.cc:2204 CleanUnusedInitializers] model.conv_45.project.bn.num_batches_tracked exists in this graph's initializers but it is not used by any node\n",
      "2022-08-10 20:34:22.958814059 [W:onnxruntime:Default, graph.cc:2204 CleanUnusedInitializers] model.bn.num_batches_tracked exists in this graph's initializers but it is not used by any node\n",
      "2022-08-10 20:34:22.958821198 [W:onnxruntime:Default, graph.cc:2204 CleanUnusedInitializers] model.conv_6_sep.bn.num_batches_tracked exists in this graph's initializers but it is not used by any node\n",
      "2022-08-10 20:34:22.958833182 [W:onnxruntime:Default, graph.cc:2204 CleanUnusedInitializers] model.conv_3.model.1.conv.bn.num_batches_tracked exists in this graph's initializers but it is not used by any node\n",
      "2022-08-10 20:34:22.958840652 [W:onnxruntime:Default, graph.cc:2204 CleanUnusedInitializers] model.conv_6_dw.bn.num_batches_tracked exists in this graph's initializers but it is not used by any node\n",
      "2022-08-10 20:34:22.958847371 [W:onnxruntime:Default, graph.cc:2204 CleanUnusedInitializers] model.conv_34.project.bn.num_batches_tracked exists in this graph's initializers but it is not used by any node\n",
      "2022-08-10 20:34:22.958855135 [W:onnxruntime:Default, graph.cc:2204 CleanUnusedInitializers] model.conv_23.conv_dw.bn.num_batches_tracked exists in this graph's initializers but it is not used by any node\n",
      "2022-08-10 20:34:22.958862193 [W:onnxruntime:Default, graph.cc:2204 CleanUnusedInitializers] model.conv_4.model.0.conv.bn.num_batches_tracked exists in this graph's initializers but it is not used by any node\n",
      "2022-08-10 20:34:22.958869405 [W:onnxruntime:Default, graph.cc:2204 CleanUnusedInitializers] model.conv_3.model.0.conv.bn.num_batches_tracked exists in this graph's initializers but it is not used by any node\n",
      "2022-08-10 20:34:22.958876728 [W:onnxruntime:Default, graph.cc:2204 CleanUnusedInitializers] model.conv_3.model.0.conv_dw.bn.num_batches_tracked exists in this graph's initializers but it is not used by any node\n",
      "2022-08-10 20:34:22.958883464 [W:onnxruntime:Default, graph.cc:2204 CleanUnusedInitializers] model.conv_4.model.4.conv_dw.bn.num_batches_tracked exists in this graph's initializers but it is not used by any node\n",
      "2022-08-10 20:34:22.958890215 [W:onnxruntime:Default, graph.cc:2204 CleanUnusedInitializers] model.conv_23.project.bn.num_batches_tracked exists in this graph's initializers but it is not used by any node\n",
      "2022-08-10 20:34:22.958896854 [W:onnxruntime:Default, graph.cc:2204 CleanUnusedInitializers] model.conv_4.model.0.conv_dw.bn.num_batches_tracked exists in this graph's initializers but it is not used by any node\n",
      "2022-08-10 20:34:22.958903421 [W:onnxruntime:Default, graph.cc:2204 CleanUnusedInitializers] model.conv_3.model.1.conv_dw.bn.num_batches_tracked exists in this graph's initializers but it is not used by any node\n",
      "2022-08-10 20:34:22.958909992 [W:onnxruntime:Default, graph.cc:2204 CleanUnusedInitializers] model.conv_45.conv.bn.num_batches_tracked exists in this graph's initializers but it is not used by any node\n",
      "2022-08-10 20:34:22.958916600 [W:onnxruntime:Default, graph.cc:2204 CleanUnusedInitializers] model.conv2_dw.bn.num_batches_tracked exists in this graph's initializers but it is not used by any node\n",
      "2022-08-10 20:34:22.958925132 [W:onnxruntime:Default, graph.cc:2204 CleanUnusedInitializers] model.conv_4.model.2.conv.bn.num_batches_tracked exists in this graph's initializers but it is not used by any node\n",
      "2022-08-10 20:34:22.958932714 [W:onnxruntime:Default, graph.cc:2204 CleanUnusedInitializers] model.conv_4.model.2.conv_dw.bn.num_batches_tracked exists in this graph's initializers but it is not used by any node\n",
      "2022-08-10 20:34:22.958940275 [W:onnxruntime:Default, graph.cc:2204 CleanUnusedInitializers] model.conv_5.model.1.conv_dw.bn.num_batches_tracked exists in this graph's initializers but it is not used by any node\n",
      "2022-08-10 20:34:22.958946954 [W:onnxruntime:Default, graph.cc:2204 CleanUnusedInitializers] model.conv_4.model.2.project.bn.num_batches_tracked exists in this graph's initializers but it is not used by any node\n",
      "2022-08-10 20:34:22.958953792 [W:onnxruntime:Default, graph.cc:2204 CleanUnusedInitializers] model.conv_4.model.3.conv.bn.num_batches_tracked exists in this graph's initializers but it is not used by any node\n",
      "2022-08-10 20:34:22.958960665 [W:onnxruntime:Default, graph.cc:2204 CleanUnusedInitializers] model.conv_4.model.3.conv_dw.bn.num_batches_tracked exists in this graph's initializers but it is not used by any node\n",
      "2022-08-10 20:34:22.958968677 [W:onnxruntime:Default, graph.cc:2204 CleanUnusedInitializers] model.conv_4.model.5.conv.bn.num_batches_tracked exists in this graph's initializers but it is not used by any node\n",
      "2022-08-10 20:34:22.958975308 [W:onnxruntime:Default, graph.cc:2204 CleanUnusedInitializers] model.conv_4.model.1.project.bn.num_batches_tracked exists in this graph's initializers but it is not used by any node\n",
      "2022-08-10 20:34:22.958982179 [W:onnxruntime:Default, graph.cc:2204 CleanUnusedInitializers] model.conv_4.model.4.conv.bn.num_batches_tracked exists in this graph's initializers but it is not used by any node\n",
      "2022-08-10 20:34:22.958989420 [W:onnxruntime:Default, graph.cc:2204 CleanUnusedInitializers] model.conv_4.model.4.project.bn.num_batches_tracked exists in this graph's initializers but it is not used by any node\n",
      "2022-08-10 20:34:22.958996904 [W:onnxruntime:Default, graph.cc:2204 CleanUnusedInitializers] model.conv_5.model.0.conv_dw.bn.num_batches_tracked exists in this graph's initializers but it is not used by any node\n",
      "2022-08-10 20:34:22.959003510 [W:onnxruntime:Default, graph.cc:2204 CleanUnusedInitializers] model.conv_4.model.5.conv_dw.bn.num_batches_tracked exists in this graph's initializers but it is not used by any node\n",
      "2022-08-10 20:34:22.959010328 [W:onnxruntime:Default, graph.cc:2204 CleanUnusedInitializers] model.conv_4.model.5.project.bn.num_batches_tracked exists in this graph's initializers but it is not used by any node\n",
      "2022-08-10 20:34:22.959017833 [W:onnxruntime:Default, graph.cc:2204 CleanUnusedInitializers] model.conv_45.conv_dw.bn.num_batches_tracked exists in this graph's initializers but it is not used by any node\n",
      "2022-08-10 20:34:22.959024543 [W:onnxruntime:Default, graph.cc:2204 CleanUnusedInitializers] model.conv_5.model.0.conv.bn.num_batches_tracked exists in this graph's initializers but it is not used by any node\n",
      "2022-08-10 20:34:22.959031328 [W:onnxruntime:Default, graph.cc:2204 CleanUnusedInitializers] model.conv_5.model.1.conv.bn.num_batches_tracked exists in this graph's initializers but it is not used by any node\n",
      "2022-08-10 20:34:22.959039257 [W:onnxruntime:Default, graph.cc:2204 CleanUnusedInitializers] model.conv_5.model.1.project.bn.num_batches_tracked exists in this graph's initializers but it is not used by any node\n",
      "2022-08-10 20:34:22.965441892 [W:onnxruntime:InferenceSession, session_state_initializer.cc:502 SaveInputOutputNamesToNodeMapping] Graph input with name model.conv1.bn.num_batches_tracked is not associated with a node. \n",
      "2022-08-10 20:34:22.965483320 [W:onnxruntime:InferenceSession, session_state_initializer.cc:502 SaveInputOutputNamesToNodeMapping] Graph input with name model.conv2_dw.bn.num_batches_tracked is not associated with a node. \n",
      "2022-08-10 20:34:22.965488985 [W:onnxruntime:InferenceSession, session_state_initializer.cc:502 SaveInputOutputNamesToNodeMapping] Graph input with name model.conv_23.conv.bn.num_batches_tracked is not associated with a node. \n",
      "2022-08-10 20:34:22.965494379 [W:onnxruntime:InferenceSession, session_state_initializer.cc:502 SaveInputOutputNamesToNodeMapping] Graph input with name model.conv_23.conv_dw.bn.num_batches_tracked is not associated with a node. \n",
      "2022-08-10 20:34:22.965499644 [W:onnxruntime:InferenceSession, session_state_initializer.cc:502 SaveInputOutputNamesToNodeMapping] Graph input with name model.conv_23.project.bn.num_batches_tracked is not associated with a node. \n",
      "2022-08-10 20:34:22.965504807 [W:onnxruntime:InferenceSession, session_state_initializer.cc:502 SaveInputOutputNamesToNodeMapping] Graph input with name model.conv_3.model.0.conv.bn.num_batches_tracked is not associated with a node. \n",
      "2022-08-10 20:34:22.965509974 [W:onnxruntime:InferenceSession, session_state_initializer.cc:502 SaveInputOutputNamesToNodeMapping] Graph input with name model.conv_3.model.0.conv_dw.bn.num_batches_tracked is not associated with a node. \n",
      "2022-08-10 20:34:22.965517904 [W:onnxruntime:InferenceSession, session_state_initializer.cc:502 SaveInputOutputNamesToNodeMapping] Graph input with name model.conv_3.model.0.project.bn.num_batches_tracked is not associated with a node. \n",
      "2022-08-10 20:34:22.965522995 [W:onnxruntime:InferenceSession, session_state_initializer.cc:502 SaveInputOutputNamesToNodeMapping] Graph input with name model.conv_3.model.1.conv.bn.num_batches_tracked is not associated with a node. \n",
      "2022-08-10 20:34:22.965528208 [W:onnxruntime:InferenceSession, session_state_initializer.cc:502 SaveInputOutputNamesToNodeMapping] Graph input with name model.conv_3.model.1.conv_dw.bn.num_batches_tracked is not associated with a node. \n",
      "2022-08-10 20:34:22.965533325 [W:onnxruntime:InferenceSession, session_state_initializer.cc:502 SaveInputOutputNamesToNodeMapping] Graph input with name model.conv_3.model.1.project.bn.num_batches_tracked is not associated with a node. \n",
      "2022-08-10 20:34:22.965538218 [W:onnxruntime:InferenceSession, session_state_initializer.cc:502 SaveInputOutputNamesToNodeMapping] Graph input with name model.conv_3.model.2.conv.bn.num_batches_tracked is not associated with a node. \n",
      "2022-08-10 20:34:22.965543225 [W:onnxruntime:InferenceSession, session_state_initializer.cc:502 SaveInputOutputNamesToNodeMapping] Graph input with name model.conv_3.model.2.conv_dw.bn.num_batches_tracked is not associated with a node. \n",
      "2022-08-10 20:34:22.965548254 [W:onnxruntime:InferenceSession, session_state_initializer.cc:502 SaveInputOutputNamesToNodeMapping] Graph input with name model.conv_3.model.2.project.bn.num_batches_tracked is not associated with a node. \n",
      "2022-08-10 20:34:22.965553376 [W:onnxruntime:InferenceSession, session_state_initializer.cc:502 SaveInputOutputNamesToNodeMapping] Graph input with name model.conv_3.model.3.conv.bn.num_batches_tracked is not associated with a node. \n",
      "2022-08-10 20:34:22.965558628 [W:onnxruntime:InferenceSession, session_state_initializer.cc:502 SaveInputOutputNamesToNodeMapping] Graph input with name model.conv_3.model.3.conv_dw.bn.num_batches_tracked is not associated with a node. \n",
      "2022-08-10 20:34:22.965563934 [W:onnxruntime:InferenceSession, session_state_initializer.cc:502 SaveInputOutputNamesToNodeMapping] Graph input with name model.conv_3.model.3.project.bn.num_batches_tracked is not associated with a node. \n",
      "2022-08-10 20:34:22.965569083 [W:onnxruntime:InferenceSession, session_state_initializer.cc:502 SaveInputOutputNamesToNodeMapping] Graph input with name model.conv_34.conv.bn.num_batches_tracked is not associated with a node. \n",
      "2022-08-10 20:34:22.965574201 [W:onnxruntime:InferenceSession, session_state_initializer.cc:502 SaveInputOutputNamesToNodeMapping] Graph input with name model.conv_34.conv_dw.bn.num_batches_tracked is not associated with a node. \n",
      "2022-08-10 20:34:22.965579603 [W:onnxruntime:InferenceSession, session_state_initializer.cc:502 SaveInputOutputNamesToNodeMapping] Graph input with name model.conv_34.project.bn.num_batches_tracked is not associated with a node. \n",
      "2022-08-10 20:34:22.965584748 [W:onnxruntime:InferenceSession, session_state_initializer.cc:502 SaveInputOutputNamesToNodeMapping] Graph input with name model.conv_4.model.0.conv.bn.num_batches_tracked is not associated with a node. \n",
      "2022-08-10 20:34:22.965589972 [W:onnxruntime:InferenceSession, session_state_initializer.cc:502 SaveInputOutputNamesToNodeMapping] Graph input with name model.conv_4.model.0.conv_dw.bn.num_batches_tracked is not associated with a node. \n",
      "2022-08-10 20:34:22.965595284 [W:onnxruntime:InferenceSession, session_state_initializer.cc:502 SaveInputOutputNamesToNodeMapping] Graph input with name model.conv_4.model.0.project.bn.num_batches_tracked is not associated with a node. \n",
      "2022-08-10 20:34:22.965600262 [W:onnxruntime:InferenceSession, session_state_initializer.cc:502 SaveInputOutputNamesToNodeMapping] Graph input with name model.conv_4.model.1.conv.bn.num_batches_tracked is not associated with a node. \n",
      "2022-08-10 20:34:22.965606307 [W:onnxruntime:InferenceSession, session_state_initializer.cc:502 SaveInputOutputNamesToNodeMapping] Graph input with name model.conv_4.model.1.conv_dw.bn.num_batches_tracked is not associated with a node. \n",
      "2022-08-10 20:34:22.965611516 [W:onnxruntime:InferenceSession, session_state_initializer.cc:502 SaveInputOutputNamesToNodeMapping] Graph input with name model.conv_4.model.1.project.bn.num_batches_tracked is not associated with a node. \n",
      "2022-08-10 20:34:22.965616725 [W:onnxruntime:InferenceSession, session_state_initializer.cc:502 SaveInputOutputNamesToNodeMapping] Graph input with name model.conv_4.model.2.conv.bn.num_batches_tracked is not associated with a node. \n",
      "2022-08-10 20:34:22.965622052 [W:onnxruntime:InferenceSession, session_state_initializer.cc:502 SaveInputOutputNamesToNodeMapping] Graph input with name model.conv_4.model.2.conv_dw.bn.num_batches_tracked is not associated with a node. \n",
      "2022-08-10 20:34:22.965627139 [W:onnxruntime:InferenceSession, session_state_initializer.cc:502 SaveInputOutputNamesToNodeMapping] Graph input with name model.conv_4.model.2.project.bn.num_batches_tracked is not associated with a node. \n",
      "2022-08-10 20:34:22.965632156 [W:onnxruntime:InferenceSession, session_state_initializer.cc:502 SaveInputOutputNamesToNodeMapping] Graph input with name model.conv_4.model.3.conv.bn.num_batches_tracked is not associated with a node. \n",
      "2022-08-10 20:34:22.965637345 [W:onnxruntime:InferenceSession, session_state_initializer.cc:502 SaveInputOutputNamesToNodeMapping] Graph input with name model.conv_4.model.3.conv_dw.bn.num_batches_tracked is not associated with a node. \n",
      "2022-08-10 20:34:22.965642388 [W:onnxruntime:InferenceSession, session_state_initializer.cc:502 SaveInputOutputNamesToNodeMapping] Graph input with name model.conv_4.model.3.project.bn.num_batches_tracked is not associated with a node. \n",
      "2022-08-10 20:34:22.965647409 [W:onnxruntime:InferenceSession, session_state_initializer.cc:502 SaveInputOutputNamesToNodeMapping] Graph input with name model.conv_4.model.4.conv.bn.num_batches_tracked is not associated with a node. \n",
      "2022-08-10 20:34:22.965652424 [W:onnxruntime:InferenceSession, session_state_initializer.cc:502 SaveInputOutputNamesToNodeMapping] Graph input with name model.conv_4.model.4.conv_dw.bn.num_batches_tracked is not associated with a node. \n",
      "2022-08-10 20:34:22.965657659 [W:onnxruntime:InferenceSession, session_state_initializer.cc:502 SaveInputOutputNamesToNodeMapping] Graph input with name model.conv_4.model.4.project.bn.num_batches_tracked is not associated with a node. \n",
      "2022-08-10 20:34:22.965662736 [W:onnxruntime:InferenceSession, session_state_initializer.cc:502 SaveInputOutputNamesToNodeMapping] Graph input with name model.conv_4.model.5.conv.bn.num_batches_tracked is not associated with a node. \n",
      "2022-08-10 20:34:22.965667695 [W:onnxruntime:InferenceSession, session_state_initializer.cc:502 SaveInputOutputNamesToNodeMapping] Graph input with name model.conv_4.model.5.conv_dw.bn.num_batches_tracked is not associated with a node. \n",
      "2022-08-10 20:34:22.965672585 [W:onnxruntime:InferenceSession, session_state_initializer.cc:502 SaveInputOutputNamesToNodeMapping] Graph input with name model.conv_4.model.5.project.bn.num_batches_tracked is not associated with a node. \n",
      "2022-08-10 20:34:22.965677573 [W:onnxruntime:InferenceSession, session_state_initializer.cc:502 SaveInputOutputNamesToNodeMapping] Graph input with name model.conv_45.conv.bn.num_batches_tracked is not associated with a node. \n",
      "2022-08-10 20:34:22.965682557 [W:onnxruntime:InferenceSession, session_state_initializer.cc:502 SaveInputOutputNamesToNodeMapping] Graph input with name model.conv_45.conv_dw.bn.num_batches_tracked is not associated with a node. \n",
      "2022-08-10 20:34:22.965687766 [W:onnxruntime:InferenceSession, session_state_initializer.cc:502 SaveInputOutputNamesToNodeMapping] Graph input with name model.conv_45.project.bn.num_batches_tracked is not associated with a node. \n",
      "2022-08-10 20:34:22.965693415 [W:onnxruntime:InferenceSession, session_state_initializer.cc:502 SaveInputOutputNamesToNodeMapping] Graph input with name model.conv_5.model.0.conv.bn.num_batches_tracked is not associated with a node. \n",
      "2022-08-10 20:34:22.965698458 [W:onnxruntime:InferenceSession, session_state_initializer.cc:502 SaveInputOutputNamesToNodeMapping] Graph input with name model.conv_5.model.0.conv_dw.bn.num_batches_tracked is not associated with a node. \n",
      "2022-08-10 20:34:22.965703574 [W:onnxruntime:InferenceSession, session_state_initializer.cc:502 SaveInputOutputNamesToNodeMapping] Graph input with name model.conv_5.model.0.project.bn.num_batches_tracked is not associated with a node. \n",
      "2022-08-10 20:34:22.965708682 [W:onnxruntime:InferenceSession, session_state_initializer.cc:502 SaveInputOutputNamesToNodeMapping] Graph input with name model.conv_5.model.1.conv.bn.num_batches_tracked is not associated with a node. \n",
      "2022-08-10 20:34:22.965713724 [W:onnxruntime:InferenceSession, session_state_initializer.cc:502 SaveInputOutputNamesToNodeMapping] Graph input with name model.conv_5.model.1.conv_dw.bn.num_batches_tracked is not associated with a node. \n",
      "2022-08-10 20:34:22.965718789 [W:onnxruntime:InferenceSession, session_state_initializer.cc:502 SaveInputOutputNamesToNodeMapping] Graph input with name model.conv_5.model.1.project.bn.num_batches_tracked is not associated with a node. \n",
      "2022-08-10 20:34:22.965729340 [W:onnxruntime:InferenceSession, session_state_initializer.cc:502 SaveInputOutputNamesToNodeMapping] Graph input with name model.conv_6_sep.bn.num_batches_tracked is not associated with a node. \n",
      "2022-08-10 20:34:22.965734541 [W:onnxruntime:InferenceSession, session_state_initializer.cc:502 SaveInputOutputNamesToNodeMapping] Graph input with name model.conv_6_dw.bn.num_batches_tracked is not associated with a node. \n",
      "2022-08-10 20:34:22.965740142 [W:onnxruntime:InferenceSession, session_state_initializer.cc:502 SaveInputOutputNamesToNodeMapping] Graph input with name model.bn.num_batches_tracked is not associated with a node. \n"
     ]
    }
   ],
   "source": [
    "import numpy as np\n",
    "with contextlib.redirect_stdout(io.StringIO()):\n",
    "    \n",
    "    ort_session = ort.InferenceSession(\"model_2022-08-05-22-09_accuracy:0.939209726443769_step:759_final_v7.onnx\")\n",
    "    \n",
    "    dataset, _ = get_val_dataset('data/facebank/test')\n",
    "    all_y_true, all_y_pred = [], []\n",
    "    \n",
    "    for image, label in dataset:\n",
    "        image = image.cpu().numpy().astype(np.float32)\n",
    "        \n",
    "        outputs = ort_session.run(\n",
    "            ['output'],\n",
    "            {\"input\": image[np.newaxis, ...]},\n",
    "        )\n",
    "        _, predicted = torch.max(torch.from_numpy(np.array(outputs[0])), 1)\n",
    "        all_y_true, all_y_pred = np.append(all_y_true, label), np.append(all_y_pred, predicted.cpu().numpy())"
   ]
  },
  {
   "cell_type": "code",
   "execution_count": 27,
   "id": "1d76ca08-b4ad-4264-b6fb-f48c9303ab00",
   "metadata": {},
   "outputs": [
    {
     "data": {
      "image/png": "[encoded data removed]",
      "text/plain": [
       "<Figure size 432x288 with 2 Axes>"
      ]
     },
     "metadata": {
      "needs_background": "light"
     },
     "output_type": "display_data"
    }
   ],
   "source": [
    "import matplotlib.pyplot as plt\n",
    "from sklearn.metrics import (\n",
    "    confusion_matrix,\n",
    "    ConfusionMatrixDisplay,\n",
    "    accuracy_score\n",
    ")\n",
    "\n",
    "cm = confusion_matrix(all_y_true, all_y_pred)\n",
    "accuracy = accuracy_score(all_y_true, all_y_pred)\n",
    "\n",
    "cm_display = ConfusionMatrixDisplay(cm, display_labels=learner.loader.dataset.classes).plot()\n",
    "plt.title(f'Accuracy {accuracy}')\n",
    "plt.show()"
   ]
  },
  {
   "cell_type": "code",
   "execution_count": null,
   "id": "f8d79ed3-33f8-4cdc-b1f2-ed961ce20470",
   "metadata": {},
   "outputs": [],
   "source": []
  }
 ],
 "metadata": {
  "kernelspec": {
   "display_name": "Python 3 (ipykernel)",
   "language": "python",
   "name": "python3"
  },
  "language_info": {
   "codemirror_mode": {
    "name": "ipython",
    "version": 3
   },
   "file_extension": ".py",
   "mimetype": "text/x-python",
   "name": "python",
   "nbconvert_exporter": "python",
   "pygments_lexer": "ipython3",
   "version": "3.7.13"
  }
 },
 "nbformat": 4,
 "nbformat_minor": 5
}
